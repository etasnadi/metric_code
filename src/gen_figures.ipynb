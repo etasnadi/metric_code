{
 "cells": [
  {
   "cell_type": "code",
   "execution_count": null,
   "metadata": {},
   "outputs": [],
   "source": [
    "import pandas as pd\n",
    "import numpy as np\n",
    "from glob import glob\n",
    "import matplotlib.pyplot as plt\n",
    "import os"
   ]
  },
  {
   "cell_type": "code",
   "execution_count": null,
   "metadata": {},
   "outputs": [],
   "source": [
    "fnames = sorted(glob('path/to/csvs/*.csv'))\n",
    "dfs = [pd.read_csv(f, sep=',') for f in fnames]\n",
    "print(f'Loaded {len(dfs)} number of dataframes!')\n",
    "df_names = [os.path.splitext(f.split('/')[1])[0] for f in fnames]"
   ]
  },
  {
   "cell_type": "code",
   "execution_count": null,
   "metadata": {},
   "outputs": [],
   "source": [
    "test = dfs[0].sort_values(by='mean_precision', ascending=False, ignore_index=True)\n",
    "print(test)"
   ]
  },
  {
   "cell_type": "markdown",
   "metadata": {},
   "source": [
    "# Collect all placements for every submission"
   ]
  },
  {
   "cell_type": "code",
   "execution_count": null,
   "metadata": {},
   "outputs": [],
   "source": [
    "submissions = {}\n",
    "sort_criteria = ['mean_accuracy', 'mean_precision', 'mean_f1', 'mean_digits_score']\n",
    "metric_names = []\n",
    "df_idx = 0\n",
    "for df in dfs:\n",
    "    for s in sort_criteria:\n",
    "        metric_names.append(df_names[df_idx]+'_'+s)\n",
    "        df = df.sort_values(by=s, ascending=False, ignore_index=True, kind='mergesort')\n",
    "        for submission_idx in range(len(df)):\n",
    "            submission_id = df['submission'][submission_idx]\n",
    "            if submission_id in submissions.keys():\n",
    "                submissions[submission_id].append(submission_idx)\n",
    "            else:\n",
    "                submissions[submission_id] = [submission_idx]\n",
    "    df_idx += 1"
   ]
  },
  {
   "cell_type": "markdown",
   "metadata": {},
   "source": [
    "# Calculate standard deviation of placements"
   ]
  },
  {
   "cell_type": "code",
   "execution_count": null,
   "metadata": {},
   "outputs": [],
   "source": [
    "submission_ids = [s for s in submissions.keys()]\n",
    "placement_stds = []\n",
    "for s in submissions.keys():\n",
    "    placement_stds.append(np.std(submissions[s]))"
   ]
  },
  {
   "cell_type": "markdown",
   "metadata": {},
   "source": [
    "# Crossplots between 2 metrics"
   ]
  },
  {
   "cell_type": "code",
   "execution_count": null,
   "metadata": {},
   "outputs": [],
   "source": [
    "m = []\n",
    "for s in submissions.keys():\n",
    "    m.append(submissions[s])\n",
    "m = np.array(m)\n"
   ]
  },
  {
   "cell_type": "code",
   "execution_count": null,
   "metadata": {},
   "outputs": [],
   "source": [
    "\n",
    "from matplotlib.colors import LinearSegmentedColormap\n",
    "cdict = {\n",
    "    'red': ((0, 240/255, 0),\n",
    "            (0.5, 1, 0),\n",
    "            (1, 149/255, 0)),\n",
    "    'green': ((0, 134/255 ,0),\n",
    "              (0.5, 1, 0),\n",
    "              (1, 190/255, 0)),\n",
    "    'blue': ((0, 153/255, 0),\n",
    "             (0.5, 1, 0),\n",
    "             (1, 69/255, 0))\n",
    "}\n",
    "\n",
    "list_colors = [(149/255, 190/255, 69/255),\n",
    "                (1, 1, 1),\n",
    "                (240/255, 134/255, 153/255)]\n",
    "rg2 = LinearSegmentedColormap.from_list('RedGr2', list_colors, N=1000)\n",
    "rg = LinearSegmentedColormap('RedGr', cdict)\n",
    "plt.register_cmap(cmap=rg)\n",
    "plt.register_cmap(cmap=rg2)"
   ]
  },
  {
   "cell_type": "code",
   "execution_count": null,
   "metadata": {},
   "outputs": [],
   "source": [
    "def scatterplot(metrics, m1_index, m2_index):\n",
    "    corrcoef = np.corrcoef(metrics.T)\n",
    "    f = plt.figure(figsize=(15,10))\n",
    "    #plt.title('Cross-correlation between metrics')\n",
    "    plt.imshow(corrcoef, vmin=0.2, vmax=1)\n",
    "    plt.xticks([])\n",
    "    plt.yticks([])\n",
    "    plt.set_cmap('RedGr2')\n",
    "    plt.colorbar()\n",
    "    plt.tight_layout()\n",
    "    plt.savefig('corrcoef.eps', dpi=300)\n",
    "    plt.show()\n",
    "    f = plt.figure(figsize=(10,10))\n",
    "    plt.scatter(metrics[:,m1_index], metrics[:,m2_index], color=(240/255, 134/255, 153/255))\n",
    "    #plt.title(f'scatter plot between metrics {m1_index} and {m2_index} ({corrcoef[m1_index, m2_index]})')\n",
    "    #plt.xlabel(f'metric #{m1_index}')\n",
    "    #plt.ylabel(f'metric #{m2_index}')\n",
    "    plt.tight_layout()\n",
    "    plt.savefig(f'scatter_{m1_index}_{m2_index}_{corrcoef[m1_index, m2_index]}.eps', dpi=300)\n",
    "    corrmtx = np.stack((metrics[:,m1_index], metrics[:,m2_index]))\n",
    "    print(f'correlation matrix: {np.corrcoef(corrmtx)}')"
   ]
  },
  {
   "cell_type": "code",
   "execution_count": null,
   "metadata": {},
   "outputs": [],
   "source": [
    "print('Metrics: ')\n",
    "for i in range(len(metric_names)):\n",
    "    print(f'{i}: {metric_names[i]}')\n",
    "scatterplot(m, 20, 22)\n",
    "scatterplot(m, 4, 36)"
   ]
  },
  {
   "cell_type": "markdown",
   "metadata": {},
   "source": [
    "# Calculate placement matrix (shape: $(\\#metrics, \\#submissions)$ )\n",
    "For every cell $(i,j)$, calculate how the placement of submission $j$ changes when using metric $i$ compared to metric $0$."
   ]
  },
  {
   "cell_type": "code",
   "execution_count": null,
   "metadata": {},
   "outputs": [],
   "source": [
    "placement_mtx = np.zeros((len(submissions[submission_ids[0]]), len(submission_ids)))\n",
    "print(placement_mtx.shape)\n",
    "\n",
    "j = 0\n",
    "for s in submissions.keys():\n",
    "    for i in range(placement_mtx.shape[0]):\n",
    "        placement_mtx[i,j] = submissions[s][0]-submissions[s][i]\n",
    "    j += 1\n",
    "\n",
    "print(np.min(placement_mtx))"
   ]
  },
  {
   "cell_type": "markdown",
   "metadata": {},
   "source": [
    "Cluster placement matrix by categories:\n",
    "- $change \\lt -100: -3$\n",
    "- $-100 \\leq change \\lt -20: -2$\n",
    "- $-20 \\leq change \\lt -10: -1$\n",
    "- $-10 \\leq change \\lt 10: 0$\n",
    "- $10 \\leq change \\lt 20: 1$\n",
    "- $20 \\leq change \\lt 100: 2$\n",
    "- $100 \\lt change: 3$"
   ]
  },
  {
   "cell_type": "code",
   "execution_count": null,
   "metadata": {},
   "outputs": [],
   "source": [
    "clustered_placement = np.zeros(placement_mtx.shape)\n",
    "clustered_placement[placement_mtx < -100] = -3\n",
    "clustered_placement[(-100 <= placement_mtx) & (placement_mtx < -20)] = -2\n",
    "clustered_placement[(-20 <= placement_mtx) & (placement_mtx < -10)] = -1\n",
    "clustered_placement[placement_mtx == 0] = 0 \n",
    "clustered_placement[(-10 <= placement_mtx) & (placement_mtx < 10)] = 1\n",
    "clustered_placement[(10 <= placement_mtx) & (placement_mtx < 20)] = 2\n",
    "clustered_placement[(20 <= placement_mtx) & (placement_mtx < 100)] = 3\n",
    "clustered_placement[placement_mtx >= 100] = 4"
   ]
  },
  {
   "cell_type": "code",
   "execution_count": null,
   "metadata": {},
   "outputs": [],
   "source": [
    "plt.imshow(clustered_placement[:,:100].T, cmap='hot', aspect='auto')\n",
    "plt.title('rank change of submissions compared to the official DSB score')\n",
    "plt.xlabel('metric variant')\n",
    "plt.ylabel('submission ID')\n",
    "plt.colorbar()"
   ]
  },
  {
   "cell_type": "code",
   "execution_count": null,
   "metadata": {},
   "outputs": [],
   "source": [
    "f = plt.figure(figsize=(15,10))\n",
    "plt.imshow(placement_mtx[:,:10].T, cmap='hot', aspect='auto')\n",
    "plt.title('rank change of submissions compared to the official DSB score')\n",
    "plt.xlabel('metric variant')\n",
    "plt.ylabel('submission ID')\n",
    "plt.colorbar()"
   ]
  }
 ],
 "metadata": {
  "kernelspec": {
   "display_name": "fourierdist",
   "language": "python",
   "name": "python3"
  },
  "language_info": {
   "codemirror_mode": {
    "name": "ipython",
    "version": 3
   },
   "file_extension": ".py",
   "mimetype": "text/x-python",
   "name": "python",
   "nbconvert_exporter": "python",
   "pygments_lexer": "ipython3",
   "version": "3.8.12"
  },
  "orig_nbformat": 4,
  "vscode": {
   "interpreter": {
    "hash": "25914447cc229174316bb23298a90b9436e67fef493bd679a430fdc108cebcdf"
   }
  }
 },
 "nbformat": 4,
 "nbformat_minor": 2
}
